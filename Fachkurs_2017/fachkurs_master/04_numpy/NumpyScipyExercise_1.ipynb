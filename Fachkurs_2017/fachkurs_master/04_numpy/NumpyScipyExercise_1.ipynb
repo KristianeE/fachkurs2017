{
 "cells": [
  {
   "cell_type": "markdown",
   "metadata": {},
   "source": [
    "# Exercise Numpy/Scipy"
   ]
  },
  {
   "cell_type": "markdown",
   "metadata": {},
   "source": [
    "### 1. Basics\n",
    "1. generate a 1-vector of size 10\n",
    "2. generate a zero-matrix of size 4x3\n",
    "3. generate a 3x3 identity matrix\n",
    "4. generate 100 evenly spaced values between 7 and 9\n",
    "5. Form the 2-D array (without typing it in explicitly):    \n",
    "[[1,  6, 11],<br/>\n",
    "[2,  7, 12],<br/>\n",
    "[3,  8, 13],<br/>\n",
    "[4,  9, 14],<br/>\n",
    "[5, 10, 15]]<br/>\n",
    "6. contruct a vector of length 100 with alternating ones and zeros ( hint: use slice indexing )\n",
    "7. construct a 8x8 matrix with a checkboard pattern of zeros and ones\n",
    "8. compute the inverse, eigenvectors and eigenvalues of the following matrix:\n",
    "$$\\mathbf{A} = \\left[\\begin{array}\n",
    "{rrr}\n",
    "6 & 4 & 9 \\\\\n",
    "1 & 0 & 2 \\\\\n",
    "3 & 1 & 1\n",
    "\\end{array}\\right]\n",
    "$$\n"
   ]
  },
  {
   "cell_type": "code",
   "execution_count": 7,
   "metadata": {
    "collapsed": false
   },
   "outputs": [],
   "source": [
    "import numpy as np"
   ]
  },
  {
   "cell_type": "code",
   "execution_count": 17,
   "metadata": {
    "collapsed": false
   },
   "outputs": [
    {
     "data": {
      "text/plain": [
       "array([ 1.,  1.,  1.,  1.,  1.,  1.,  1.,  1.,  1.,  1.])"
      ]
     },
     "execution_count": 17,
     "metadata": {},
     "output_type": "execute_result"
    }
   ],
   "source": [
    "np.ones(10)"
   ]
  },
  {
   "cell_type": "code",
   "execution_count": 22,
   "metadata": {
    "collapsed": false
   },
   "outputs": [
    {
     "data": {
      "text/plain": [
       "array([[ 0.,  0.,  0.],\n",
       "       [ 0.,  0.,  0.],\n",
       "       [ 0.,  0.,  0.],\n",
       "       [ 0.,  0.,  0.]])"
      ]
     },
     "execution_count": 22,
     "metadata": {},
     "output_type": "execute_result"
    }
   ],
   "source": [
    "np.zeros((4, 3))"
   ]
  },
  {
   "cell_type": "code",
   "execution_count": 23,
   "metadata": {
    "collapsed": false
   },
   "outputs": [
    {
     "data": {
      "text/plain": [
       "array([[ 1.,  0.,  0.],\n",
       "       [ 0.,  1.,  0.],\n",
       "       [ 0.,  0.,  1.]])"
      ]
     },
     "execution_count": 23,
     "metadata": {},
     "output_type": "execute_result"
    }
   ],
   "source": [
    "np.eye(3)"
   ]
  },
  {
   "cell_type": "code",
   "execution_count": 21,
   "metadata": {
    "collapsed": false
   },
   "outputs": [
    {
     "data": {
      "text/plain": [
       "array([ 7.        ,  7.02020202,  7.04040404,  7.06060606,  7.08080808,\n",
       "        7.1010101 ,  7.12121212,  7.14141414,  7.16161616,  7.18181818,\n",
       "        7.2020202 ,  7.22222222,  7.24242424,  7.26262626,  7.28282828,\n",
       "        7.3030303 ,  7.32323232,  7.34343434,  7.36363636,  7.38383838,\n",
       "        7.4040404 ,  7.42424242,  7.44444444,  7.46464646,  7.48484848,\n",
       "        7.50505051,  7.52525253,  7.54545455,  7.56565657,  7.58585859,\n",
       "        7.60606061,  7.62626263,  7.64646465,  7.66666667,  7.68686869,\n",
       "        7.70707071,  7.72727273,  7.74747475,  7.76767677,  7.78787879,\n",
       "        7.80808081,  7.82828283,  7.84848485,  7.86868687,  7.88888889,\n",
       "        7.90909091,  7.92929293,  7.94949495,  7.96969697,  7.98989899,\n",
       "        8.01010101,  8.03030303,  8.05050505,  8.07070707,  8.09090909,\n",
       "        8.11111111,  8.13131313,  8.15151515,  8.17171717,  8.19191919,\n",
       "        8.21212121,  8.23232323,  8.25252525,  8.27272727,  8.29292929,\n",
       "        8.31313131,  8.33333333,  8.35353535,  8.37373737,  8.39393939,\n",
       "        8.41414141,  8.43434343,  8.45454545,  8.47474747,  8.49494949,\n",
       "        8.51515152,  8.53535354,  8.55555556,  8.57575758,  8.5959596 ,\n",
       "        8.61616162,  8.63636364,  8.65656566,  8.67676768,  8.6969697 ,\n",
       "        8.71717172,  8.73737374,  8.75757576,  8.77777778,  8.7979798 ,\n",
       "        8.81818182,  8.83838384,  8.85858586,  8.87878788,  8.8989899 ,\n",
       "        8.91919192,  8.93939394,  8.95959596,  8.97979798,  9.        ])"
      ]
     },
     "execution_count": 21,
     "metadata": {},
     "output_type": "execute_result"
    }
   ],
   "source": [
    "np.linspace(7, 9, 100)"
   ]
  },
  {
   "cell_type": "code",
   "execution_count": null,
   "metadata": {
    "collapsed": true
   },
   "outputs": [],
   "source": [
    "vec = np.zeros"
   ]
  },
  {
   "cell_type": "code",
   "execution_count": 26,
   "metadata": {
    "collapsed": false
   },
   "outputs": [
    {
     "data": {
      "text/plain": [
       "array([[ 1.,  0.,  1.,  0.,  1.,  0.,  1.,  0.],\n",
       "       [ 0.,  1.,  0.,  1.,  0.,  1.,  0.,  1.],\n",
       "       [ 1.,  0.,  1.,  0.,  1.,  0.,  1.,  0.],\n",
       "       [ 0.,  1.,  0.,  1.,  0.,  1.,  0.,  1.],\n",
       "       [ 1.,  0.,  1.,  0.,  1.,  0.,  1.,  0.],\n",
       "       [ 0.,  1.,  0.,  1.,  0.,  1.,  0.,  1.],\n",
       "       [ 1.,  0.,  1.,  0.,  1.,  0.,  1.,  0.],\n",
       "       [ 0.,  1.,  0.,  1.,  0.,  1.,  0.,  1.]])"
      ]
     },
     "execution_count": 26,
     "metadata": {},
     "output_type": "execute_result"
    }
   ],
   "source": [
    "M = np.zeros ((8, 8))\n",
    "M[::2, ::2] = 1\n",
    "M[1::2, 1::2] = 1\n",
    "M"
   ]
  },
  {
   "cell_type": "markdown",
   "metadata": {},
   "source": [
    "# 2. Mandelbrot\n",
    "\n",
    "The mandelbrot set is defined as the set of complex numbers $c$ for which the iteration $z_{n+1} = (z_n)^2 + c$, with $z_0=0$ does not diverge. In this exercise we want to compute the Mandelbrot set within a certain range.\n",
    "\n",
    "1. implement the function `in_mandelbrot(real, comp)` which computes whether a complex number (real = real part, comp=complex part) belongs to the mandelbrot set. Hint: the complex number 5+3i can be constructed in python as follows: `c = 5 + 1j*3`. Iterate `N_max` times and use the threshold `thresh`.\n",
    "2. generate a 2D array with `1000x1000` zeros called `M`\n",
    "3. compute for for all complex numbers with real part between -2 and 1 and with complex part between -1.5 and 1.5 whether they belong the Mandelbrot set and store the result in `M`.\n"
   ]
  },
  {
   "cell_type": "code",
   "execution_count": 1,
   "metadata": {
    "collapsed": false
   },
   "outputs": [],
   "source": [
    "N_max = 50 # number of iterations\n",
    "thresh = 50 # threshold\n",
    "\n",
    "def in_mandelbrot(real, comp):\n",
    "    # computes whether a complex number (real = real part, comp=complex part) belongs to the mandelbrot set\n",
    "    for i in N_max_:\n",
    "        return\n",
    " \n",
    "def step(start, step, iterations):\n",
    "    return (start + (i * step) for i in range(N_max))\n",
    " \n",
    "        for real in step(-2.0, 1))\n",
    "        for comp in step(-1.5, -1.5))\n"
   ]
  },
  {
   "cell_type": "code",
   "execution_count": null,
   "metadata": {
    "collapsed": false
   },
   "outputs": [],
   "source": [
    "# plot the mandelbrot fractal\n",
    "# assusmes M is a 2D array filled with boolean values\n",
    "import matplotlib.pyplot as plt\n",
    "plt.imshow(M)\n",
    "plt.show()"
   ]
  },
  {
   "cell_type": "code",
   "execution_count": null,
   "metadata": {
    "collapsed": false
   },
   "outputs": [],
   "source": [
    "M = np.zeros((1000, 1000))"
   ]
  },
  {
   "cell_type": "code",
   "execution_count": null,
   "metadata": {
    "collapsed": true
   },
   "outputs": [],
   "source": []
  }
 ],
 "metadata": {
  "kernelspec": {
   "display_name": "Python 3",
   "language": "python",
   "name": "python3"
  },
  "language_info": {
   "codemirror_mode": {
    "name": "ipython",
    "version": 3
   },
   "file_extension": ".py",
   "mimetype": "text/x-python",
   "name": "python",
   "nbconvert_exporter": "python",
   "pygments_lexer": "ipython3",
   "version": "3.5.2"
  }
 },
 "nbformat": 4,
 "nbformat_minor": 0
}
